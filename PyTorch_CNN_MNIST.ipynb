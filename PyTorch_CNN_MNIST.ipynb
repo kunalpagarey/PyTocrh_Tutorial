{
  "nbformat": 4,
  "nbformat_minor": 0,
  "metadata": {
    "colab": {
      "name": "PyTorch CNN-MNIST.ipynb",
      "provenance": [],
      "collapsed_sections": [],
      "authorship_tag": "ABX9TyOKps78dkmtHO9/x78u7+Fw",
      "include_colab_link": true
    },
    "kernelspec": {
      "name": "python3",
      "display_name": "Python 3"
    },
    "accelerator": "GPU"
  },
  "cells": [
    {
      "cell_type": "markdown",
      "metadata": {
        "id": "view-in-github",
        "colab_type": "text"
      },
      "source": [
        "<a href=\"https://colab.research.google.com/github/kunalpagarey/PyTocrh_Tutorial/blob/master/PyTorch_CNN_MNIST.ipynb\" target=\"_parent\"><img src=\"https://colab.research.google.com/assets/colab-badge.svg\" alt=\"Open In Colab\"/></a>"
      ]
    },
    {
      "cell_type": "code",
      "metadata": {
        "id": "gjeIAv3eAe0n",
        "colab_type": "code",
        "colab": {}
      },
      "source": [
        "import torch\n",
        "import torch.nn as nn\n",
        "import torch.nn.functional as F\n",
        "from torch.utils.data import DataLoader\n",
        "from torchvision import datasets, transforms\n",
        "import numpy as np\n",
        "import matplotlib.pyplot as plt"
      ],
      "execution_count": 0,
      "outputs": []
    },
    {
      "cell_type": "code",
      "metadata": {
        "id": "URCjXXbv_egh",
        "colab_type": "code",
        "colab": {}
      },
      "source": [
        "device = torch.device(\"cuda:0\" if torch.cuda.is_available() else \"cpu\")\n",
        "device"
      ],
      "execution_count": 0,
      "outputs": []
    },
    {
      "cell_type": "code",
      "metadata": {
        "id": "r7duz1Xb55oq",
        "colab_type": "code",
        "colab": {}
      },
      "source": [
        "transform = transforms.Compose([transforms.Resize((28, 28)),\n",
        "                                transforms.ToTensor(),\n",
        "                                transforms.Normalize((0.5,), (0.5,))])\n",
        "\n",
        "train_data = datasets.MNIST('./data/', train=True, transform=transform, download=True)\n",
        "val_data = datasets.MNIST('./data', train=False, transform=transform, download=True)\n",
        "\n",
        "train_loader = DataLoader(train_data, batch_size=100, shuffle=True)\n",
        "val_loader = DataLoader(val_data, batch_size=100)\n",
        "\n",
        "def convert_image(img):\n",
        "    image = img.cpu().clone().detach().numpy()\n",
        "    image = image.transpose(1, 2, 0)\n",
        "    image = image * np.array((0.5, 0.5, 0.5)) + np.array((0.5, 0.5, 0.5))\n",
        "    image = image.clip(0, 1)\n",
        "    return image\n"
      ],
      "execution_count": 0,
      "outputs": []
    },
    {
      "cell_type": "code",
      "metadata": {
        "id": "pXRZiTpE97u3",
        "colab_type": "code",
        "colab": {}
      },
      "source": [
        "dataiter = iter(train_loader)\n",
        "images, labels = dataiter.next()\n",
        "print(labels)\n",
        "fig = plt.figure(figsize=(25, 4))\n",
        "\n",
        "for idx in np.arange(20):\n",
        "    ax = fig.add_subplot(2, 10, idx+1, xticks=[], yticks=[])\n",
        "    plt.imshow(convert_image(images[idx]))\n",
        "    ax.set_title([labels[idx].item()])"
      ],
      "execution_count": 0,
      "outputs": []
    },
    {
      "cell_type": "code",
      "metadata": {
        "id": "0vO0_XYc20Tn",
        "colab_type": "code",
        "colab": {}
      },
      "source": [
        "# LeNet implementation\n",
        "\n",
        "class LeNet(nn.Module):\n",
        "    def __init__(self):\n",
        "        super(LeNet, self).__init__()\n",
        "        self.conv1 = nn.Conv2d(1, 20, 5, 1)\n",
        "        self.conv2 = nn.Conv2d(20, 50, 5, 1)\n",
        "        self.fc1 = nn.Linear(4*4*50, 500)\n",
        "        self.dropout1 = nn.Dropout(0.5)\n",
        "        self.fc2 = nn.Linear(500, 10)\n",
        "    \n",
        "    def forward(self, x):\n",
        "        x = F.relu(self.conv1(x))\n",
        "        x = F.max_pool2d(x, 2, 2)\n",
        "        x = F.relu(self.conv2(x))\n",
        "        x = F.max_pool2d(x, 2, 2)\n",
        "        x = x.view(-1, 4*4*50)\n",
        "        x = F.relu(self.fc1(x))\n",
        "        x = self.dropout1(x)\n",
        "        x = self.fc2(x)\n",
        "    \n",
        "        return x"
      ],
      "execution_count": 0,
      "outputs": []
    },
    {
      "cell_type": "code",
      "metadata": {
        "id": "Nml27lHE5Gyg",
        "colab_type": "code",
        "colab": {}
      },
      "source": [
        "model = LeNet().to(device)\n",
        "print(model)\n",
        "criterion = nn.CrossEntropyLoss()\n",
        "optimizer = torch.optim.Adam(model.parameters(), lr=0.0001)"
      ],
      "execution_count": 0,
      "outputs": []
    },
    {
      "cell_type": "code",
      "metadata": {
        "id": "z_ix2a9r_GAy",
        "colab_type": "code",
        "colab": {}
      },
      "source": [
        "epochs = 15\n",
        "t_losses = []\n",
        "t_accuracy = []\n",
        "v_losses = []\n",
        "v_accuracy = []\n",
        "for e in range(epochs):\n",
        "    te_loss = 0.0\n",
        "    te_correct = 0.0\n",
        "    ve_loss = 0.0\n",
        "    ve_correct = 0.0\n",
        "    \n",
        "    for inputs, labels in train_loader:\n",
        "        inputs, labels = inputs.to(device), labels.to(device)\n",
        "        outputs = model(inputs)\n",
        "        loss = criterion(outputs, labels)\n",
        "\n",
        "        optimizer.zero_grad()\n",
        "        loss.backward()\n",
        "        optimizer.step()\n",
        "\n",
        "        _, pred = torch.max(outputs, 1)\n",
        "\n",
        "        te_loss += loss.item()\n",
        "        te_correct += torch.sum(pred == labels)\n",
        "\n",
        "    with torch.no_grad():\n",
        "        for inputs, labels in val_loader:\n",
        "            inputs, labels = inputs.to(device), labels.to(device)\n",
        "            outputs = model(inputs)\n",
        "            loss = criterion(outputs, labels)\n",
        "            \n",
        "            _, pred = torch.max(outputs, 1)\n",
        "\n",
        "            ve_loss += loss.item()\n",
        "            ve_correct += torch.sum(pred == labels)\n",
        "    \n",
        "    te_loss = te_loss/len(train_loader)\n",
        "    te_correct = te_correct/len(train_loader)\n",
        "    ve_loss = ve_loss/len(val_loader)\n",
        "    ve_correct = ve_correct/len(val_loader)\n",
        "\n",
        "    t_losses.append(te_loss)\n",
        "    t_accuracy.append(te_correct)\n",
        "    v_losses.append(ve_loss)\n",
        "    v_accuracy.append(ve_correct)\n",
        "    print(\"Epoch: {}, Train: Loss={:0.4f}, Accuracy={:0.4f}, Val: Loss={:0.4f}\"\\\n",
        "          \", Accuracy={:0.4f}\".format(e, te_loss, te_correct.item(), ve_loss,\n",
        "                                      ve_correct.item()))        "
      ],
      "execution_count": 0,
      "outputs": []
    },
    {
      "cell_type": "code",
      "metadata": {
        "id": "kiKn3FZKaqjR",
        "colab_type": "code",
        "colab": {}
      },
      "source": [
        "plt.plot(t_losses, label=\"Training losses\")\n",
        "plt.plot(v_losses, label=\"Validation losses\")\n",
        "plt.title(\"Loss curves.\")\n",
        "plt.xlabel(\"Epoch\")\n",
        "plt.ylabel(\"Loss\")\n",
        "plt.legend()"
      ],
      "execution_count": 0,
      "outputs": []
    },
    {
      "cell_type": "code",
      "metadata": {
        "id": "E8lMeWOXavGW",
        "colab_type": "code",
        "colab": {}
      },
      "source": [
        "plt.plot(t_accuracy, label=\"Training accuracy\")\n",
        "plt.plot(v_accuracy, label=\"Validation accuracy\")\n",
        "plt.title(\"Accuracy curves.\")\n",
        "plt.xlabel(\"Epoch\")\n",
        "plt.ylabel(\"Accuracy\")\n",
        "plt.legend()"
      ],
      "execution_count": 0,
      "outputs": []
    },
    {
      "cell_type": "code",
      "metadata": {
        "id": "0ZKNkt8Vaxgp",
        "colab_type": "code",
        "colab": {}
      },
      "source": [
        "import PIL.ImageOps as ops\n",
        "from PIL import Image\n",
        "import requests"
      ],
      "execution_count": 0,
      "outputs": []
    },
    {
      "cell_type": "code",
      "metadata": {
        "id": "qhwCyMJjcyk4",
        "colab_type": "code",
        "colab": {}
      },
      "source": [
        "url = 'https://images.homedepot-static.com/productImages/007164ea-d47e-4f66-8d8c-fd9f621984a2/svn/architectural-mailboxes-house-letters-numbers-3585b-5-64_1000.jpg'\n",
        "\n",
        "response = requests.get(url, stream=True)\n",
        "img = Image.open(response.raw)\n",
        "img = ops.invert(img)\n",
        "img=img.convert('1')\n",
        "img = transform(img)\n",
        "plt.imshow(convert_image(img))"
      ],
      "execution_count": 0,
      "outputs": []
    },
    {
      "cell_type": "code",
      "metadata": {
        "id": "FAcpBqtudHM6",
        "colab_type": "code",
        "colab": {}
      },
      "source": [
        "im = img.to(device)\n",
        "im = im[0].unsqueeze(0).unsqueeze(0)\n",
        "out = model(im)\n",
        "_, prediction = torch.max(out, 1)\n",
        "print(prediction.item())"
      ],
      "execution_count": 0,
      "outputs": []
    },
    {
      "cell_type": "code",
      "metadata": {
        "id": "lU0csMi_dJ5G",
        "colab_type": "code",
        "colab": {}
      },
      "source": [
        "dataiter = iter(val_loader)\n",
        "images, labels = dataiter.next()\n",
        "images = images.to(device)\n",
        "labels = labels.to(device)\n",
        "logits = model(images)\n",
        "_, predictions = torch.max(logits, 1)\n",
        "\n",
        "fig = plt.figure(figsize=(25, 4))\n",
        "\n",
        "for idx in np.arange(20):\n",
        "    ax = fig.add_subplot(2, 10, idx+1, xticks=[], yticks=[])\n",
        "    plt.imshow(convert_image(images[idx]))\n",
        "    ax.set_title(\"{}({})\".format(str(labels[idx].item()), str(predictions[idx].item())), \n",
        "                 color=\"green\" if predictions[idx] == labels[idx] else \"red\")"
      ],
      "execution_count": 0,
      "outputs": []
    }
  ]
}