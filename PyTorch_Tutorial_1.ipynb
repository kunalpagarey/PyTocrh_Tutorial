{
  "nbformat": 4,
  "nbformat_minor": 0,
  "metadata": {
    "colab": {
      "name": "PyTorch Tutorial 1.ipynb",
      "provenance": [],
      "collapsed_sections": [],
      "authorship_tag": "ABX9TyOpQswV2SSzj2Sj45qNi9ty",
      "include_colab_link": true
    },
    "kernelspec": {
      "name": "python3",
      "display_name": "Python 3"
    }
  },
  "cells": [
    {
      "cell_type": "markdown",
      "metadata": {
        "id": "view-in-github",
        "colab_type": "text"
      },
      "source": [
        "<a href=\"https://colab.research.google.com/github/kunalpagarey/PyTocrh_Tutorial/blob/master/PyTorch_Tutorial_1.ipynb\" target=\"_parent\"><img src=\"https://colab.research.google.com/assets/colab-badge.svg\" alt=\"Open In Colab\"/></a>"
      ]
    },
    {
      "cell_type": "code",
      "metadata": {
        "id": "KwZeiPPqMY45",
        "colab_type": "code",
        "colab": {}
      },
      "source": [
        "import torch\n",
        "import numpy as np\n",
        "import matplotlib.pyplot as plt\n"
      ],
      "execution_count": 0,
      "outputs": []
    },
    {
      "cell_type": "code",
      "metadata": {
        "id": "9gV8APqiIZXN",
        "colab_type": "code",
        "outputId": "735eae6f-7a98-482e-856b-2afc39644724",
        "colab": {
          "base_uri": "https://localhost:8080/",
          "height": 34
        }
      },
      "source": [
        "torch.__version__"
      ],
      "execution_count": 3,
      "outputs": [
        {
          "output_type": "execute_result",
          "data": {
            "text/plain": [
              "'1.4.0'"
            ]
          },
          "metadata": {
            "tags": []
          },
          "execution_count": 3
        }
      ]
    },
    {
      "cell_type": "code",
      "metadata": {
        "id": "1AZb4l4uIcth",
        "colab_type": "code",
        "outputId": "21a3ca34-a243-4c00-98d3-05d143b42eab",
        "colab": {
          "base_uri": "https://localhost:8080/",
          "height": 34
        }
      },
      "source": [
        "torch.version.cuda"
      ],
      "execution_count": 4,
      "outputs": [
        {
          "output_type": "execute_result",
          "data": {
            "text/plain": [
              "'10.1'"
            ]
          },
          "metadata": {
            "tags": []
          },
          "execution_count": 4
        }
      ]
    },
    {
      "cell_type": "code",
      "metadata": {
        "id": "Xx7-dDsgIn8J",
        "colab_type": "code",
        "outputId": "8f341ffb-007c-4a8a-d1ea-1f3442df7b75",
        "colab": {
          "base_uri": "https://localhost:8080/",
          "height": 34
        }
      },
      "source": [
        "torch.cuda.is_available()"
      ],
      "execution_count": 5,
      "outputs": [
        {
          "output_type": "execute_result",
          "data": {
            "text/plain": [
              "False"
            ]
          },
          "metadata": {
            "tags": []
          },
          "execution_count": 5
        }
      ]
    },
    {
      "cell_type": "code",
      "metadata": {
        "id": "YsqvMvG7I2lg",
        "colab_type": "code",
        "outputId": "cd708ef3-ac8c-4a44-eadd-48fe6c2a2cd6",
        "colab": {
          "base_uri": "https://localhost:8080/",
          "height": 68
        }
      },
      "source": [
        "# 1-Dimentional Tensors\n",
        "\n",
        "v = torch.tensor([1, 2, 3, 4, 5, 6])\n",
        "print(v, v.dtype, v.type(), v.item, v.data)\n",
        "print(v[0])\n",
        "print(v[2:5])"
      ],
      "execution_count": 6,
      "outputs": [
        {
          "output_type": "stream",
          "text": [
            "tensor([1, 2, 3, 4, 5, 6]) torch.int64 torch.LongTensor <built-in method item of Tensor object at 0x7ff11c1c1c60> tensor([1, 2, 3, 4, 5, 6])\n",
            "tensor(1)\n",
            "tensor([3, 4, 5])\n"
          ],
          "name": "stdout"
        }
      ]
    },
    {
      "cell_type": "code",
      "metadata": {
        "id": "a2TiAkEVLte1",
        "colab_type": "code",
        "outputId": "4aa3494f-3e26-47c6-b851-1efeba22dea8",
        "colab": {
          "base_uri": "https://localhost:8080/",
          "height": 190
        }
      },
      "source": [
        "f = torch.FloatTensor([1, 2, 3, 4, 5, 6, 7, 8, 9])\n",
        "print(f, f.dtype, f.type(), f.item, f.data)\n",
        "print(\"This is interesting: \", f.shape)\n",
        "print(f.view(-1, 3))\n",
        "print(f.view(3, -1))\n",
        "print(\"Look this shape now: \", f.view(1, 9).shape)"
      ],
      "execution_count": 7,
      "outputs": [
        {
          "output_type": "stream",
          "text": [
            "tensor([1., 2., 3., 4., 5., 6., 7., 8., 9.]) torch.float32 torch.FloatTensor <built-in method item of Tensor object at 0x7ff11c1d46c0> tensor([1., 2., 3., 4., 5., 6., 7., 8., 9.])\n",
            "This is interesting:  torch.Size([9])\n",
            "tensor([[1., 2., 3.],\n",
            "        [4., 5., 6.],\n",
            "        [7., 8., 9.]])\n",
            "tensor([[1., 2., 3.],\n",
            "        [4., 5., 6.],\n",
            "        [7., 8., 9.]])\n",
            "Look this shape now:  torch.Size([1, 9])\n"
          ],
          "name": "stdout"
        }
      ]
    },
    {
      "cell_type": "code",
      "metadata": {
        "id": "dZMuirOLM9p3",
        "colab_type": "code",
        "outputId": "c0e58405-8bc9-4b2f-e86a-1ba42812d764",
        "colab": {
          "base_uri": "https://localhost:8080/",
          "height": 34
        }
      },
      "source": [
        "convert_to_np = f.numpy()\n",
        "print(type(convert_to_np), convert_to_np)"
      ],
      "execution_count": 8,
      "outputs": [
        {
          "output_type": "stream",
          "text": [
            "<class 'numpy.ndarray'> [1. 2. 3. 4. 5. 6. 7. 8. 9.]\n"
          ],
          "name": "stdout"
        }
      ]
    },
    {
      "cell_type": "code",
      "metadata": {
        "id": "C3fXlJUXNvPJ",
        "colab_type": "code",
        "outputId": "ad6b93d7-779f-47e9-c9b6-55a54c251709",
        "colab": {
          "base_uri": "https://localhost:8080/",
          "height": 51
        }
      },
      "source": [
        "np_a = np.array([11, 22, 33, 44, 55, 66, 77])\n",
        "print(type(np_a), np_a)\n",
        "convert_to_tensor = torch.from_numpy(np_a)\n",
        "print(convert_to_tensor.dtype, convert_to_tensor.type(), convert_to_tensor)"
      ],
      "execution_count": 9,
      "outputs": [
        {
          "output_type": "stream",
          "text": [
            "<class 'numpy.ndarray'> [11 22 33 44 55 66 77]\n",
            "torch.int64 torch.LongTensor tensor([11, 22, 33, 44, 55, 66, 77])\n"
          ],
          "name": "stdout"
        }
      ]
    },
    {
      "cell_type": "code",
      "metadata": {
        "id": "tYoxnmM_PzRn",
        "colab_type": "code",
        "outputId": "1935a318-dba5-4df4-cb64-fd61905d1337",
        "colab": {
          "base_uri": "https://localhost:8080/",
          "height": 68
        }
      },
      "source": [
        "# Vector Operations\n",
        "\n",
        "t1 = torch.tensor([1, 2, 3])\n",
        "t2 = torch.tensor([4, 5, 6])\n",
        "\n",
        "print(\"Addition = \", t1 + t2)\n",
        "print(\"Elementwise Multiplication = \", t1 * t2)\n",
        "print(\"Dot product = \", torch.dot(t1, t2))"
      ],
      "execution_count": 10,
      "outputs": [
        {
          "output_type": "stream",
          "text": [
            "Addition =  tensor([5, 7, 9])\n",
            "Elementwise Multiplication =  tensor([ 4, 10, 18])\n",
            "Dot product =  tensor(32)\n"
          ],
          "name": "stdout"
        }
      ]
    },
    {
      "cell_type": "code",
      "metadata": {
        "id": "dv9YAlfDRswj",
        "colab_type": "code",
        "outputId": "b53e080f-4d4a-4767-cd2c-213500a140fe",
        "colab": {
          "base_uri": "https://localhost:8080/",
          "height": 170
        }
      },
      "source": [
        "# usage of linspace\n",
        "\n",
        "linspace = torch.linspace(1, 100)\n",
        "print(linspace.shape, linspace)"
      ],
      "execution_count": 11,
      "outputs": [
        {
          "output_type": "stream",
          "text": [
            "torch.Size([100]) tensor([  1.,   2.,   3.,   4.,   5.,   6.,   7.,   8.,   9.,  10.,  11.,  12.,\n",
            "         13.,  14.,  15.,  16.,  17.,  18.,  19.,  20.,  21.,  22.,  23.,  24.,\n",
            "         25.,  26.,  27.,  28.,  29.,  30.,  31.,  32.,  33.,  34.,  35.,  36.,\n",
            "         37.,  38.,  39.,  40.,  41.,  42.,  43.,  44.,  45.,  46.,  47.,  48.,\n",
            "         49.,  50.,  51.,  52.,  53.,  54.,  55.,  56.,  57.,  58.,  59.,  60.,\n",
            "         61.,  62.,  63.,  64.,  65.,  66.,  67.,  68.,  69.,  70.,  71.,  72.,\n",
            "         73.,  74.,  75.,  76.,  77.,  78.,  79.,  80.,  81.,  82.,  83.,  84.,\n",
            "         85.,  86.,  87.,  88.,  89.,  90.,  91.,  92.,  93.,  94.,  95.,  96.,\n",
            "         97.,  98.,  99., 100.])\n"
          ],
          "name": "stdout"
        }
      ]
    },
    {
      "cell_type": "code",
      "metadata": {
        "id": "uQ98QIt1TdMo",
        "colab_type": "code",
        "colab": {}
      },
      "source": [
        "x = torch.linspace(0, 10)\n",
        "y1 = torch.exp(x)\n",
        "y2 = torch.sin(x)"
      ],
      "execution_count": 0,
      "outputs": []
    },
    {
      "cell_type": "code",
      "metadata": {
        "id": "fCNRE1m4Uc5L",
        "colab_type": "code",
        "outputId": "730032cc-7f83-4960-bbad-2bf019ae3343",
        "colab": {
          "base_uri": "https://localhost:8080/",
          "height": 282
        }
      },
      "source": [
        "plt.plot(x.numpy(), y1.numpy())\n",
        "# plt.plot(x.numpy(), y2.numpy())"
      ],
      "execution_count": 13,
      "outputs": [
        {
          "output_type": "execute_result",
          "data": {
            "text/plain": [
              "[<matplotlib.lines.Line2D at 0x7ff11c12c860>]"
            ]
          },
          "metadata": {
            "tags": []
          },
          "execution_count": 13
        },
        {
          "output_type": "display_data",
          "data": {
            "image/png": "[encoded data removed]",
            "text/plain": [
              "<Figure size 432x288 with 1 Axes>"
            ]
          },
          "metadata": {
            "tags": []
          }
        }
      ]
    },
    {
      "cell_type": "code",
      "metadata": {
        "id": "nSho0e2nUxta",
        "colab_type": "code",
        "outputId": "c8c4dda2-b431-42b6-d08d-38201d1ee017",
        "colab": {
          "base_uri": "https://localhost:8080/",
          "height": 51
        }
      },
      "source": [
        "# 2-D Tensors\n",
        "\n",
        "one_d = torch.arange(0, 7) # Creates a 1-d tensor with elements ranging from 0 to 7\n",
        "print(one_d)\n",
        "\n",
        "one_d = torch.arange(0, 8, 3) # with step size of 3\n",
        "print(one_d)"
      ],
      "execution_count": 14,
      "outputs": [
        {
          "output_type": "stream",
          "text": [
            "tensor([0, 1, 2, 3, 4, 5, 6])\n",
            "tensor([0, 3, 6])\n"
          ],
          "name": "stdout"
        }
      ]
    },
    {
      "cell_type": "code",
      "metadata": {
        "id": "Bdy_AkmqYFPA",
        "colab_type": "code",
        "outputId": "015e9def-9a69-4b91-d4fa-0ecef4827c55",
        "colab": {
          "base_uri": "https://localhost:8080/",
          "height": 204
        }
      },
      "source": [
        "one_d = torch.arange(0, 9)\n",
        "\n",
        "two_d = one_d.view(3, 3)\n",
        "print(\"This is a 2-D tensor: \", two_d)\n",
        "\n",
        "three_d = torch.arange(0, 18).view(3, 2, 3)\n",
        "print(\"This is a 3-D tensor: \", three_d)"
      ],
      "execution_count": 15,
      "outputs": [
        {
          "output_type": "stream",
          "text": [
            "This is a 2-D tensor:  tensor([[0, 1, 2],\n",
            "        [3, 4, 5],\n",
            "        [6, 7, 8]])\n",
            "This is a 3-D tensor:  tensor([[[ 0,  1,  2],\n",
            "         [ 3,  4,  5]],\n",
            "\n",
            "        [[ 6,  7,  8],\n",
            "         [ 9, 10, 11]],\n",
            "\n",
            "        [[12, 13, 14],\n",
            "         [15, 16, 17]]])\n"
          ],
          "name": "stdout"
        }
      ]
    },
    {
      "cell_type": "code",
      "metadata": {
        "id": "HWSUHJHhYsfL",
        "colab_type": "code",
        "outputId": "38ea8d4e-6e44-4e9b-ab9f-7c09e2e9b981",
        "colab": {
          "base_uri": "https://localhost:8080/",
          "height": 51
        }
      },
      "source": [
        "#slicing 3-D tensors.\n",
        "\n",
        "three_d[1, :, :]"
      ],
      "execution_count": 23,
      "outputs": [
        {
          "output_type": "execute_result",
          "data": {
            "text/plain": [
              "tensor([[ 6,  7,  8],\n",
              "        [ 9, 10, 11]])"
            ]
          },
          "metadata": {
            "tags": []
          },
          "execution_count": 23
        }
      ]
    },
    {
      "cell_type": "code",
      "metadata": {
        "id": "TuwpVDiCRKz1",
        "colab_type": "code",
        "colab": {
          "base_uri": "https://localhost:8080/",
          "height": 153
        },
        "outputId": "084e168c-59d5-4dbd-deed-4455b54b70c0"
      },
      "source": [
        "# Matrix Multiplication in Tensors.\n",
        "\n",
        "mat_a = torch.tensor([0, 3, 5, 5, 5, 2]).view(2, 3)\n",
        "mat_b = torch.tensor([3, 4, 3, -2, 4, -2]).view(3, -1)\n",
        "\n",
        "print(mat_a, mat_b)\n",
        "\n",
        "print(\"Matrix multiplication of A and B = \", torch.matmul(mat_a, mat_b))\n",
        "print(\"Matrix multiplication of A and B = \", mat_a @ mat_b)"
      ],
      "execution_count": 25,
      "outputs": [
        {
          "output_type": "stream",
          "text": [
            "tensor([[0, 3, 5],\n",
            "        [5, 5, 2]]) tensor([[ 3,  4],\n",
            "        [ 3, -2],\n",
            "        [ 4, -2]])\n",
            "Matrix multiplication of A and B =  tensor([[ 29, -16],\n",
            "        [ 38,   6]])\n",
            "Matrix multiplication of A and B =  tensor([[ 29, -16],\n",
            "        [ 38,   6]])\n"
          ],
          "name": "stdout"
        }
      ]
    },
    {
      "cell_type": "code",
      "metadata": {
        "id": "6jpnNrvNTEmL",
        "colab_type": "code",
        "colab": {
          "base_uri": "https://localhost:8080/",
          "height": 51
        },
        "outputId": "7059c052-6f1b-4577-b2a7-db7b9f846928"
      },
      "source": [
        "# Gradient with PyTorch.\n",
        "\n",
        "x = torch.tensor(2.0, requires_grad=True)\n",
        "z = torch.tensor(2.0, requires_grad=True)\n",
        "y = 9*x**4 + 2*x**3 + 3*x**2 + 6*x + 1 + z**3\n",
        "y.backward()\n",
        "print(\"Gradient at x = 2 is: \", x.grad)\n",
        "print(\"Gradient at z = 2 is: \", z.grad)"
      ],
      "execution_count": 41,
      "outputs": [
        {
          "output_type": "stream",
          "text": [
            "Gradient at x = 2 is:  tensor(330.)\n",
            "Gradient at z = 2 is:  tensor(12.)\n"
          ],
          "name": "stdout"
        }
      ]
    },
    {
      "cell_type": "code",
      "metadata": {
        "id": "AjwUhzrJW9yC",
        "colab_type": "code",
        "colab": {}
      },
      "source": [
        ""
      ],
      "execution_count": 0,
      "outputs": []
    }
  ]
}