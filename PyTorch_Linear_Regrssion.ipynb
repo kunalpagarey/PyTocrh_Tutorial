{
  "nbformat": 4,
  "nbformat_minor": 0,
  "metadata": {
    "colab": {
      "name": "PyTorch Linear Regrssion.ipynb",
      "provenance": [],
      "collapsed_sections": [],
      "authorship_tag": "ABX9TyNRsnI/ESFZ6L/8N00slz9m",
      "include_colab_link": true
    },
    "kernelspec": {
      "name": "python3",
      "display_name": "Python 3"
    }
  },
  "cells": [
    {
      "cell_type": "markdown",
      "metadata": {
        "id": "view-in-github",
        "colab_type": "text"
      },
      "source": [
        "<a href=\"https://colab.research.google.com/github/kunalpagarey/PyTocrh_Tutorial/blob/master/PyTorch_Linear_Regrssion.ipynb\" target=\"_parent\"><img src=\"https://colab.research.google.com/assets/colab-badge.svg\" alt=\"Open In Colab\"/></a>"
      ]
    },
    {
      "cell_type": "code",
      "metadata": {
        "id": "GlqgTrjwUekf",
        "colab_type": "code",
        "colab": {}
      },
      "source": [
        "import torch\n",
        "import torch.nn as nn\n",
        "import matplotlib.pyplot as plt\n",
        "import numpy as np"
      ],
      "execution_count": 0,
      "outputs": []
    },
    {
      "cell_type": "code",
      "metadata": {
        "id": "ix_0gPSb5K0o",
        "colab_type": "code",
        "outputId": "dff19f6e-6963-456d-c65a-49916836559b",
        "colab": {
          "base_uri": "https://localhost:8080/",
          "height": 296
        }
      },
      "source": [
        "# Generate data.\n",
        "\n",
        "X = torch.randn(100, 1)*10\n",
        "Y = X + 3*torch.randn(100, 1)\n",
        "plt.plot(X, Y, 'o')\n",
        "plt.ylabel('Y')\n",
        "plt.xlabel('X')"
      ],
      "execution_count": 5,
      "outputs": [
        {
          "output_type": "execute_result",
          "data": {
            "text/plain": [
              "Text(0.5, 0, 'X')"
            ]
          },
          "metadata": {
            "tags": []
          },
          "execution_count": 5
        },
        {
          "output_type": "display_data",
          "data": {
            "image/png": "[encoded data removed]",
            "text/plain": [
              "<Figure size 432x288 with 1 Axes>"
            ]
          },
          "metadata": {
            "tags": []
          }
        }
      ]
    },
    {
      "cell_type": "code",
      "metadata": {
        "id": "O4Dtr8tj6ep9",
        "colab_type": "code",
        "outputId": "46cf2430-2a82-4564-967f-63587c7bf850",
        "colab": {
          "base_uri": "https://localhost:8080/",
          "height": 68
        }
      },
      "source": [
        "class LinReg(nn.Module):\n",
        "  def __init__(self, in_feat, out_feat):\n",
        "    super(LinReg, self).__init__()\n",
        "    self.linear = nn.Linear(in_features=in_feat, out_features=out_feat)\n",
        "\n",
        "  def forward(self, x):\n",
        "    pred = self.linear(x)\n",
        "    return pred\n",
        "\n",
        "torch.manual_seed(1)\n",
        "model = LinReg(1, 1)\n",
        "print(model)"
      ],
      "execution_count": 6,
      "outputs": [
        {
          "output_type": "stream",
          "text": [
            "LinReg(\n",
            "  (linear): Linear(in_features=1, out_features=1, bias=True)\n",
            ")\n"
          ],
          "name": "stdout"
        }
      ]
    },
    {
      "cell_type": "code",
      "metadata": {
        "id": "Mz2LISQm8B7T",
        "colab_type": "code",
        "colab": {}
      },
      "source": [
        "W, B = model.parameters()\n",
        "def get_params():\n",
        "  return W[0][0].item(), B[0].item()"
      ],
      "execution_count": 0,
      "outputs": []
    },
    {
      "cell_type": "code",
      "metadata": {
        "id": "0mu7-TWF-Cw7",
        "colab_type": "code",
        "colab": {}
      },
      "source": [
        "def plot_fig(title):\n",
        "  x = np.array([-30, 30])\n",
        "  w, b = get_params()\n",
        "  y = w*x + b\n",
        "  plt.title(title)\n",
        "  plt.plot(x, y, 'r')\n",
        "  plt.scatter(X, Y)\n",
        "  plt.show()"
      ],
      "execution_count": 0,
      "outputs": []
    },
    {
      "cell_type": "code",
      "metadata": {
        "id": "yrv-i7Q0Amch",
        "colab_type": "code",
        "outputId": "10829583-40b5-457f-fc28-8d7c5d78486f",
        "colab": {
          "base_uri": "https://localhost:8080/",
          "height": 281
        }
      },
      "source": [
        "plot_fig(\"Initial model\")"
      ],
      "execution_count": 9,
      "outputs": [
        {
          "output_type": "display_data",
          "data": {
            "image/png": "[encoded data removed]",
            "text/plain": [
              "<Figure size 432x288 with 1 Axes>"
            ]
          },
          "metadata": {
            "tags": []
          }
        }
      ]
    },
    {
      "cell_type": "code",
      "metadata": {
        "id": "OW-vDmUNBCWY",
        "colab_type": "code",
        "colab": {
          "base_uri": "https://localhost:8080/",
          "height": 1000
        },
        "outputId": "7be6a0c6-cdd1-48cc-f326-043e4e00fadb"
      },
      "source": [
        "# Loss function and optimizer.\n",
        "\n",
        "criterion = nn.MSELoss()\n",
        "optimizer = torch.optim.SGD(model.parameters(), lr=0.01)\n",
        "\n",
        "epochs = 100\n",
        "losses = []\n",
        "for e in range(epochs):\n",
        "  y_pred = model.forward(X)\n",
        "  loss = criterion(y_pred, Y)\n",
        "  losses.append(loss)\n",
        "  print(\"Epoch: {}, Loss: {}\".format(e, loss.item()))\n",
        "\n",
        "  optimizer.zero_grad()\n",
        "  loss.backward()\n",
        "  optimizer.step()"
      ],
      "execution_count": 10,
      "outputs": [
        {
          "output_type": "stream",
          "text": [
            "Epoch: 0, Loss: 31.346242904663086\n",
            "Epoch: 1, Loss: 23.763551712036133\n",
            "Epoch: 2, Loss: 18.610061645507812\n",
            "Epoch: 3, Loss: 15.1051025390625\n",
            "Epoch: 4, Loss: 12.718997955322266\n",
            "Epoch: 5, Loss: 11.092336654663086\n",
            "Epoch: 6, Loss: 9.981253623962402\n",
            "Epoch: 7, Loss: 9.220281600952148\n",
            "Epoch: 8, Loss: 8.697135925292969\n",
            "Epoch: 9, Loss: 8.335626602172852\n",
            "Epoch: 10, Loss: 8.084044456481934\n",
            "Epoch: 11, Loss: 7.907293796539307\n",
            "Epoch: 12, Loss: 7.781555652618408\n",
            "Epoch: 13, Loss: 7.690659999847412\n",
            "Epoch: 14, Loss: 7.623622894287109\n",
            "Epoch: 15, Loss: 7.572988510131836\n",
            "Epoch: 16, Loss: 7.533685684204102\n",
            "Epoch: 17, Loss: 7.502267360687256\n",
            "Epoch: 18, Loss: 7.476384162902832\n",
            "Epoch: 19, Loss: 7.454439640045166\n",
            "Epoch: 20, Loss: 7.43533992767334\n",
            "Epoch: 21, Loss: 7.418336391448975\n",
            "Epoch: 22, Loss: 7.402914524078369\n",
            "Epoch: 23, Loss: 7.388720512390137\n",
            "Epoch: 24, Loss: 7.3755059242248535\n",
            "Epoch: 25, Loss: 7.363096714019775\n",
            "Epoch: 26, Loss: 7.351373672485352\n",
            "Epoch: 27, Loss: 7.340243339538574\n",
            "Epoch: 28, Loss: 7.3296403884887695\n",
            "Epoch: 29, Loss: 7.319519519805908\n",
            "Epoch: 30, Loss: 7.3098368644714355\n",
            "Epoch: 31, Loss: 7.300567150115967\n",
            "Epoch: 32, Loss: 7.291680812835693\n",
            "Epoch: 33, Loss: 7.2831597328186035\n",
            "Epoch: 34, Loss: 7.2749834060668945\n",
            "Epoch: 35, Loss: 7.267135143280029\n",
            "Epoch: 36, Loss: 7.259603500366211\n",
            "Epoch: 37, Loss: 7.252369403839111\n",
            "Epoch: 38, Loss: 7.245424270629883\n",
            "Epoch: 39, Loss: 7.23875617980957\n",
            "Epoch: 40, Loss: 7.232351303100586\n",
            "Epoch: 41, Loss: 7.226200580596924\n",
            "Epoch: 42, Loss: 7.220291614532471\n",
            "Epoch: 43, Loss: 7.214618682861328\n",
            "Epoch: 44, Loss: 7.209169387817383\n",
            "Epoch: 45, Loss: 7.203935146331787\n",
            "Epoch: 46, Loss: 7.198906898498535\n",
            "Epoch: 47, Loss: 7.194080352783203\n",
            "Epoch: 48, Loss: 7.1894426345825195\n",
            "Epoch: 49, Loss: 7.184988498687744\n",
            "Epoch: 50, Loss: 7.1807098388671875\n",
            "Epoch: 51, Loss: 7.176602363586426\n",
            "Epoch: 52, Loss: 7.17265510559082\n",
            "Epoch: 53, Loss: 7.1688642501831055\n",
            "Epoch: 54, Loss: 7.165224075317383\n",
            "Epoch: 55, Loss: 7.161726474761963\n",
            "Epoch: 56, Loss: 7.1583685874938965\n",
            "Epoch: 57, Loss: 7.155141830444336\n",
            "Epoch: 58, Loss: 7.152043342590332\n",
            "Epoch: 59, Loss: 7.1490678787231445\n",
            "Epoch: 60, Loss: 7.146209239959717\n",
            "Epoch: 61, Loss: 7.143463134765625\n",
            "Epoch: 62, Loss: 7.140827655792236\n",
            "Epoch: 63, Loss: 7.138294696807861\n",
            "Epoch: 64, Loss: 7.135862350463867\n",
            "Epoch: 65, Loss: 7.133525848388672\n",
            "Epoch: 66, Loss: 7.131282329559326\n",
            "Epoch: 67, Loss: 7.129126071929932\n",
            "Epoch: 68, Loss: 7.127056121826172\n",
            "Epoch: 69, Loss: 7.125068187713623\n",
            "Epoch: 70, Loss: 7.123157501220703\n",
            "Epoch: 71, Loss: 7.12132453918457\n",
            "Epoch: 72, Loss: 7.119561672210693\n",
            "Epoch: 73, Loss: 7.1178693771362305\n",
            "Epoch: 74, Loss: 7.116244316101074\n",
            "Epoch: 75, Loss: 7.114684581756592\n",
            "Epoch: 76, Loss: 7.113184928894043\n",
            "Epoch: 77, Loss: 7.111746311187744\n",
            "Epoch: 78, Loss: 7.110360622406006\n",
            "Epoch: 79, Loss: 7.109032154083252\n",
            "Epoch: 80, Loss: 7.107757091522217\n",
            "Epoch: 81, Loss: 7.106530666351318\n",
            "Epoch: 82, Loss: 7.1053547859191895\n",
            "Epoch: 83, Loss: 7.10422420501709\n",
            "Epoch: 84, Loss: 7.103138446807861\n",
            "Epoch: 85, Loss: 7.102094650268555\n",
            "Epoch: 86, Loss: 7.101093292236328\n",
            "Epoch: 87, Loss: 7.100130081176758\n",
            "Epoch: 88, Loss: 7.09920597076416\n",
            "Epoch: 89, Loss: 7.098318576812744\n",
            "Epoch: 90, Loss: 7.097465991973877\n",
            "Epoch: 91, Loss: 7.096647262573242\n",
            "Epoch: 92, Loss: 7.095860481262207\n",
            "Epoch: 93, Loss: 7.09510612487793\n",
            "Epoch: 94, Loss: 7.0943803787231445\n",
            "Epoch: 95, Loss: 7.093682765960693\n",
            "Epoch: 96, Loss: 7.093013763427734\n",
            "Epoch: 97, Loss: 7.092370986938477\n",
            "Epoch: 98, Loss: 7.0917534828186035\n",
            "Epoch: 99, Loss: 7.091160774230957\n"
          ],
          "name": "stdout"
        }
      ]
    },
    {
      "cell_type": "code",
      "metadata": {
        "id": "9uSwEIl-uMzf",
        "colab_type": "code",
        "colab": {
          "base_uri": "https://localhost:8080/",
          "height": 296
        },
        "outputId": "57dd2132-4ba0-4eae-9db5-ebb6ede2c600"
      },
      "source": [
        "plt.plot(range(epochs), losses)\n",
        "plt.xlabel(\"Epoch\")\n",
        "plt.ylabel(\"Loss\")"
      ],
      "execution_count": 15,
      "outputs": [
        {
          "output_type": "execute_result",
          "data": {
            "text/plain": [
              "Text(0, 0.5, 'Loss')"
            ]
          },
          "metadata": {
            "tags": []
          },
          "execution_count": 15
        },
        {
          "output_type": "display_data",
          "data": {
            "image/png": "[encoded data removed]",
            "text/plain": [
              "<Figure size 432x288 with 1 Axes>"
            ]
          },
          "metadata": {
            "tags": []
          }
        }
      ]
    },
    {
      "cell_type": "code",
      "metadata": {
        "id": "HR5y06t0vCxQ",
        "colab_type": "code",
        "colab": {
          "base_uri": "https://localhost:8080/",
          "height": 281
        },
        "outputId": "fe454db6-0811-48ce-e757-8dd0fe32f36f"
      },
      "source": [
        "plot_fig(\"Trained Model\")"
      ],
      "execution_count": 16,
      "outputs": [
        {
          "output_type": "display_data",
          "data": {
            "image/png": "[encoded data removed]",
            "text/plain": [
              "<Figure size 432x288 with 1 Axes>"
            ]
          },
          "metadata": {
            "tags": []
          }
        }
      ]
    },
    {
      "cell_type": "code",
      "metadata": {
        "id": "aN3KwqFgvDuA",
        "colab_type": "code",
        "colab": {}
      },
      "source": [
        ""
      ],
      "execution_count": 0,
      "outputs": []
    }
  ]
}